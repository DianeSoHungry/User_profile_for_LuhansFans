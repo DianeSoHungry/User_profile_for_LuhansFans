{
 "cells": [
  {
   "cell_type": "code",
   "execution_count": 57,
   "metadata": {},
   "outputs": [
    {
     "name": "stdout",
     "output_type": "stream",
     "text": [
      "Overwriting utils/preprocessing.py\n"
     ]
    }
   ],
   "source": [
    "%%writefile utils/preprocessing.py\n",
    "import os\n",
    "import jieba\n",
    "import json\n",
    "import jieba.analyse\n",
    "def MergeStopwords(sw_dir = \"./dict/stopwords/\"):\n",
    "    '''\n",
    "    载入停用词表，汇总后保存至merged——stopwords.txt，并返回汇总后的停用词。\n",
    "    '''\n",
    "    my_stopwords=set()\n",
    "    sw_filenames = os.listdir(sw_dir)\n",
    "    for filename in sw_filenames:\n",
    "        if filename[0] == '.' or filename == \"merged_stopwords.txt\":\n",
    "            continue\n",
    "        with open(sw_dir + filename, \"r\") as f:\n",
    "            for line in f.readlines():\n",
    "                my_stopwords.add(line.strip())\n",
    "    my_stopwords = list(my_stopwords) + [\"\\n\",\"\\u200b\",\"\\xa0\",\" \",\".......\"]\n",
    "    with open(sw_dir + \"merged_stopwords.txt\", \"w\") as f:\n",
    "        f.writelines(\"\\n\".join(my_stopwords))\n",
    "    return my_stopwords\n",
    "\n",
    "def EmojiDictMaking(emoji_dir = \"./dict/user_dictionaries/emoji_dictionaries/\"):\n",
    "    '''\n",
    "    制作表情字典,下载的表情字符源文件转换成jieba标准字典格式\n",
    "    '''\n",
    "    emoji_set = set()\n",
    "    emoji_filenames = os.listdir(emoji_dir)\n",
    "    for emoji_raw_file in emoji_filenames:\n",
    "        if emoji_raw_file[0] in [\".\", \"merged_emoji_dictionary.txt\"]:\n",
    "            continue\n",
    "        with open(emoji_dir + emoji_raw_file,'r') as f:\n",
    "            emoji_set = emoji_set.union(set(f.readline().strip().replace('[','').split(']')[:-1]))\n",
    "    with open(emoji_dir + 'merged_emoji_dictionary.txt','w') as f:\n",
    "        f.writelines(\"\\n\".join(list(emoji_set)))"
   ]
  },
  {
   "cell_type": "code",
   "execution_count": null,
   "metadata": {
    "collapsed": true
   },
   "outputs": [],
   "source": []
  }
 ],
 "metadata": {
  "kernelspec": {
   "display_name": "Python 3",
   "language": "python",
   "name": "python3"
  },
  "language_info": {
   "codemirror_mode": {
    "name": "ipython",
    "version": 3
   },
   "file_extension": ".py",
   "mimetype": "text/x-python",
   "name": "python",
   "nbconvert_exporter": "python",
   "pygments_lexer": "ipython3",
   "version": "3.6.3"
  }
 },
 "nbformat": 4,
 "nbformat_minor": 2
}
