{
 "cells": [
  {
   "cell_type": "code",
   "execution_count": 29,
   "metadata": {},
   "outputs": [
    {
     "name": "stdout",
     "output_type": "stream",
     "text": [
      "Overwriting preprocessing_weibo.py\n"
     ]
    }
   ],
   "source": [
    "%%writefile preprocessing_weibo.py\n",
    "\"\"\"\n",
    "@author: Qingyun Hu\n",
    "@contact: dianesohungry@gmail.com\n",
    "\"\"\"\n",
    "\n",
    "import os\n",
    "import pandas as pd\n",
    "import jieba\n",
    "import json\n",
    "from collections import defaultdict\n",
    "from jieba import analyse\n",
    "\n",
    "def CreateTagsByID(weibo_dir, dest_dir, emoji_path, customized_path, stopwords_path, topK = 40):\n",
    "    '''\n",
    "    遍历scraped_data夹中的所有文件，对同一ID的博文进行汇总，并根据TF-IDF提取属于该ID的标签，保存在user_tags文件夹中。\n",
    "    Args:\n",
    "        weibo_dir: 爬取的微博博文数据所在目录\n",
    "        dest_dir: 聚合后，每个用户的TFIDF标签群保存目录\n",
    "        emoji_path: 自制表情符地址（merge后）\n",
    "        customized_path: 自制用户词典地址（merge后）\n",
    "        stopwords_path: 停用词地址（merge后）\n",
    "        topK: 选取最大topK个标签\n",
    "    Returns:\n",
    "    \n",
    "    \n",
    "    '''\n",
    "    jieba.load_userdict(emoji_path)\n",
    "    jieba.load_userdict(customized_path)\n",
    "    analyse.set_stop_words(stopwords_path)\n",
    "    jieba.enable_parallel()\n",
    "    for filename in os.listdir(weibo_dir):\n",
    "        res = defaultdict()\n",
    "        if(filename[0] == \".\"):\n",
    "            continue\n",
    "        raw_data = pd.read_csv(weibo_dir + filename)\n",
    "        text_per_uid = raw_data.groupby(\"uid\")[\"weibotxt\"].sum()\n",
    "        for idx in text_per_uid.index:\n",
    "            res[str(idx)] = jieba.analyse.extract_tags(text_per_uid[idx], topK = topK)\n",
    "        with open(dest_dir + filename[:-4] + \".json\", \"w\") as f:\n",
    "            json.dump(res, f)"
   ]
  },
  {
   "cell_type": "code",
   "execution_count": 35,
   "metadata": {},
   "outputs": [
    {
     "name": "stdout",
     "output_type": "stream",
     "text": [
      "Overwriting preprocessing_weibo_corpus.py\n"
     ]
    }
   ],
   "source": [
    "%%writefile preprocessing_weibo_corpus.py\n",
    "\"\"\"\n",
    "@author: Qingyun Hu\n",
    "@contact: dianesohungry@gmail.com\n",
    "\"\"\"\n",
    "import os\n",
    "import numpy as np\n",
    "from collections import defaultdict\n",
    "def Tags2Target(tags, targets, wv):\n",
    "    '''\n",
    "    为单个用户的所有tags选择targets中的最合适标签(词向量的cosine相似度最高)，并返回选取的target值。\n",
    "    Args:\n",
    "        tags: 单个用户ID对应的TF-IDF标签\n",
    "        targets: 预测值目标列表\n",
    "        wv: 选良好的词向量\n",
    "    Return:\n",
    "        选取的标签值\n",
    "    \n",
    "    '''\n",
    "    targets_vecs = list(map(lambda x:wv[x], targets))\n",
    "    votes = defaultdict(int)\n",
    "    for tag in tags:\n",
    "        try:\n",
    "            idx = np.argmax(wv.cosine_similarities(wv[tag], targets_vecs))\n",
    "            votes[idx] += 1\n",
    "        except KeyError as e:\n",
    "            continue\n",
    "    try:\n",
    "        return targets[max(votes, key = votes.get)]\n",
    "    except:\n",
    "        pass\n",
    "    \n",
    "        \n",
    "def CreateTargetDict(target_dir):\n",
    "    '''\n",
    "    载入target_dir目录下所有的target表，以字典形式返回，键值对形式为{分类方式:分类列表}\n",
    "    Args:\n",
    "        target_dir: 各个分类表所在目录\n",
    "    Return:\n",
    "        target_dict\n",
    "        \n",
    "    \n",
    "    '''\n",
    "    target_dict = defaultdict()\n",
    "    for filename in os.listdir(target_dir):\n",
    "        if(filename[0] == \".\"):\n",
    "            continue\n",
    "        with open(target_dir + filename) as f:\n",
    "             target_dict[filename[:4]] = f.read().strip().split(\"\\n\")\n",
    "    return target_dict"
   ]
  },
  {
   "cell_type": "code",
   "execution_count": null,
   "metadata": {
    "collapsed": true
   },
   "outputs": [],
   "source": []
  }
 ],
 "metadata": {
  "kernelspec": {
   "display_name": "Python 3",
   "language": "python",
   "name": "python3"
  },
  "language_info": {
   "codemirror_mode": {
    "name": "ipython",
    "version": 3
   },
   "file_extension": ".py",
   "mimetype": "text/x-python",
   "name": "python",
   "nbconvert_exporter": "python",
   "pygments_lexer": "ipython3",
   "version": "3.6.3"
  }
 },
 "nbformat": 4,
 "nbformat_minor": 2
}
