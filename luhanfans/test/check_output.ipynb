{
 "cells": [
  {
   "cell_type": "code",
   "execution_count": 1,
   "metadata": {},
   "outputs": [
    {
     "data": {
      "text/html": [
       "<div>\n",
       "<style>\n",
       "    .dataframe thead tr:only-child th {\n",
       "        text-align: right;\n",
       "    }\n",
       "\n",
       "    .dataframe thead th {\n",
       "        text-align: left;\n",
       "    }\n",
       "\n",
       "    .dataframe tbody tr th {\n",
       "        vertical-align: top;\n",
       "    }\n",
       "</style>\n",
       "<table border=\"1\" class=\"dataframe\">\n",
       "  <thead>\n",
       "    <tr style=\"text-align: right;\">\n",
       "      <th></th>\n",
       "      <th>id</th>\n",
       "      <th>type</th>\n",
       "      <th>hobby</th>\n",
       "      <th>occupation</th>\n",
       "    </tr>\n",
       "  </thead>\n",
       "  <tbody>\n",
       "    <tr>\n",
       "      <th>0</th>\n",
       "      <td>100064</td>\n",
       "      <td>骨灰粉</td>\n",
       "      <td>电子设备</td>\n",
       "      <td>初中生</td>\n",
       "    </tr>\n",
       "    <tr>\n",
       "      <th>1</th>\n",
       "      <td>100090</td>\n",
       "      <td>脑残粉</td>\n",
       "      <td>电子设备</td>\n",
       "      <td>初中生</td>\n",
       "    </tr>\n",
       "    <tr>\n",
       "      <th>2</th>\n",
       "      <td>100142</td>\n",
       "      <td>脑残粉</td>\n",
       "      <td>电视剧</td>\n",
       "      <td>高中生</td>\n",
       "    </tr>\n",
       "    <tr>\n",
       "      <th>3</th>\n",
       "      <td>100167</td>\n",
       "      <td>阿姨粉</td>\n",
       "      <td>时尚</td>\n",
       "      <td>初中生</td>\n",
       "    </tr>\n",
       "    <tr>\n",
       "      <th>4</th>\n",
       "      <td>100169</td>\n",
       "      <td>骨灰粉</td>\n",
       "      <td>电子设备</td>\n",
       "      <td>公务员</td>\n",
       "    </tr>\n",
       "  </tbody>\n",
       "</table>\n",
       "</div>"
      ],
      "text/plain": [
       "       id type hobby occupation\n",
       "0  100064  骨灰粉  电子设备        初中生\n",
       "1  100090  脑残粉  电子设备        初中生\n",
       "2  100142  脑残粉   电视剧        高中生\n",
       "3  100167  阿姨粉    时尚        初中生\n",
       "4  100169  骨灰粉  电子设备        公务员"
      ]
     },
     "execution_count": 1,
     "metadata": {},
     "output_type": "execute_result"
    }
   ],
   "source": [
    "\"\"\"\n",
    "@author: Qingyun Hu\n",
    "@contact: dianesohungry@gmail.com\n",
    "\"\"\"\n",
    "\n",
    "import pandas as pd\n",
    "df = pd.read_csv(\"../../data/results/weibo.csv\", names=[\"id\",\"type\",\"hobby\",\"occupation\"])\n",
    "df[\"id\"] = df[\"id\"]//10000\n",
    "df[\"type\"] = df[\"type\"] + \"粉\"\n",
    "df.head()"
   ]
  }
 ],
 "metadata": {
  "kernelspec": {
   "display_name": "Python 3",
   "language": "python",
   "name": "python3"
  },
  "language_info": {
   "codemirror_mode": {
    "name": "ipython",
    "version": 3
   },
   "file_extension": ".py",
   "mimetype": "text/x-python",
   "name": "python",
   "nbconvert_exporter": "python",
   "pygments_lexer": "ipython3",
   "version": "3.6.3"
  }
 },
 "nbformat": 4,
 "nbformat_minor": 2
}
